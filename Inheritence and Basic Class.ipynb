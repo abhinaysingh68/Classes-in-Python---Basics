{
 "cells": [
  {
   "cell_type": "code",
   "execution_count": 64,
   "id": "9ad3b633",
   "metadata": {},
   "outputs": [],
   "source": [
    "import pandas as pd"
   ]
  },
  {
   "cell_type": "code",
   "execution_count": 65,
   "id": "cf37f40a",
   "metadata": {},
   "outputs": [],
   "source": [
    "import numpy as np"
   ]
  },
  {
   "cell_type": "code",
   "execution_count": 66,
   "id": "b006ccc6",
   "metadata": {},
   "outputs": [],
   "source": [
    "df=pd.read_csv(\"mydata.csv\")"
   ]
  },
  {
   "cell_type": "code",
   "execution_count": 67,
   "id": "bb56bea8",
   "metadata": {},
   "outputs": [
    {
     "data": {
      "text/html": [
       "<div>\n",
       "<style scoped>\n",
       "    .dataframe tbody tr th:only-of-type {\n",
       "        vertical-align: middle;\n",
       "    }\n",
       "\n",
       "    .dataframe tbody tr th {\n",
       "        vertical-align: top;\n",
       "    }\n",
       "\n",
       "    .dataframe thead th {\n",
       "        text-align: right;\n",
       "    }\n",
       "</style>\n",
       "<table border=\"1\" class=\"dataframe\">\n",
       "  <thead>\n",
       "    <tr style=\"text-align: right;\">\n",
       "      <th></th>\n",
       "      <th>UID</th>\n",
       "      <th>name</th>\n",
       "      <th>sales</th>\n",
       "      <th>Age</th>\n",
       "      <th>City</th>\n",
       "      <th>Growth</th>\n",
       "      <th>DOJ</th>\n",
       "    </tr>\n",
       "  </thead>\n",
       "  <tbody>\n",
       "    <tr>\n",
       "      <th>0</th>\n",
       "      <td>myd_1</td>\n",
       "      <td>John</td>\n",
       "      <td>100</td>\n",
       "      <td>45</td>\n",
       "      <td>NY</td>\n",
       "      <td>34%</td>\n",
       "      <td>12-11-2017</td>\n",
       "    </tr>\n",
       "    <tr>\n",
       "      <th>1</th>\n",
       "      <td>myd_2</td>\n",
       "      <td>Cindy</td>\n",
       "      <td>86</td>\n",
       "      <td>43</td>\n",
       "      <td>New Delhi</td>\n",
       "      <td>12%</td>\n",
       "      <td>01-03-2019</td>\n",
       "    </tr>\n",
       "    <tr>\n",
       "      <th>2</th>\n",
       "      <td>myd_3</td>\n",
       "      <td>Carl</td>\n",
       "      <td>230</td>\n",
       "      <td>19</td>\n",
       "      <td>NY</td>\n",
       "      <td>23%</td>\n",
       "      <td>12-12-2020</td>\n",
       "    </tr>\n",
       "    <tr>\n",
       "      <th>3</th>\n",
       "      <td>myd_4</td>\n",
       "      <td>Abraham</td>\n",
       "      <td>789</td>\n",
       "      <td>29</td>\n",
       "      <td>Berlin</td>\n",
       "      <td>11%</td>\n",
       "      <td>31-01-2018</td>\n",
       "    </tr>\n",
       "  </tbody>\n",
       "</table>\n",
       "</div>"
      ],
      "text/plain": [
       "     UID     name  sales  Age       City Growth         DOJ\n",
       "0  myd_1     John    100   45         NY    34%  12-11-2017\n",
       "1  myd_2    Cindy     86   43  New Delhi    12%  01-03-2019\n",
       "2  myd_3     Carl    230   19         NY    23%  12-12-2020\n",
       "3  myd_4  Abraham    789   29     Berlin    11%  31-01-2018"
      ]
     },
     "execution_count": 67,
     "metadata": {},
     "output_type": "execute_result"
    }
   ],
   "source": [
    "df"
   ]
  },
  {
   "cell_type": "code",
   "execution_count": 68,
   "id": "2538829b",
   "metadata": {},
   "outputs": [
    {
     "data": {
      "text/plain": [
       "UID       object\n",
       "name      object\n",
       "sales      int64\n",
       "Age        int64\n",
       "City      object\n",
       "Growth    object\n",
       "DOJ       object\n",
       "dtype: object"
      ]
     },
     "execution_count": 68,
     "metadata": {},
     "output_type": "execute_result"
    }
   ],
   "source": [
    "df.dtypes"
   ]
  },
  {
   "cell_type": "code",
   "execution_count": 88,
   "id": "19734b22",
   "metadata": {},
   "outputs": [],
   "source": [
    "class Car:\n",
    "    def __init__(self, windows,door,enginetype,tyre):\n",
    "        self.windowCount=windows\n",
    "        self.doorCount=door\n",
    "        self.engine=enginetype\n",
    "        self.tyreType=tyre\n",
    "        self.totalDoor=door+1\n",
    "    def tyre_desc(self, tyrewidth):\n",
    "        self.tyreWidth=tyrewidth\n",
    "        return (\"This car has {} tyres.\".format(self.tyreType))+(\" Tyre width is {} inches.\".format(self.tyreWidth))"
   ]
  },
  {
   "cell_type": "code",
   "execution_count": 89,
   "id": "eb5b89e2",
   "metadata": {},
   "outputs": [],
   "source": [
    "car1=Car(4,5,\"Petrol\",\"Tubless\")\n",
    "\n",
    "car2=Car(2,3,\"Diesel\",\"Tube\")"
   ]
  },
  {
   "cell_type": "code",
   "execution_count": 90,
   "id": "e50f6144",
   "metadata": {},
   "outputs": [
    {
     "data": {
      "text/plain": [
       "4"
      ]
     },
     "execution_count": 90,
     "metadata": {},
     "output_type": "execute_result"
    }
   ],
   "source": [
    "car2.totalDoor"
   ]
  },
  {
   "cell_type": "code",
   "execution_count": 91,
   "id": "91a9984e",
   "metadata": {},
   "outputs": [
    {
     "data": {
      "text/plain": [
       "'This car has Tubless tyres. Tyre width is 8 inches.'"
      ]
     },
     "execution_count": 91,
     "metadata": {},
     "output_type": "execute_result"
    }
   ],
   "source": [
    "car1.tyre_desc(8)"
   ]
  },
  {
   "cell_type": "code",
   "execution_count": 92,
   "id": "4ed6af85",
   "metadata": {},
   "outputs": [],
   "source": [
    "class WW(Car):\n",
    "    def __init__(self,windows,door,enginetype,tyre, ai, hybrid):\n",
    "        super().__init__(windows, door, enginetype, tyre)\n",
    "        self.aiAvailable=ai\n",
    "        self.hybridEngine=hybrid\n",
    "    def hybridInfo(self):\n",
    "        return (\"This car runs on {} technologies\".format(self.aiAvailable)) + (\" and has {} engine\").format(self.hybridEngine)"
   ]
  },
  {
   "cell_type": "code",
   "execution_count": 93,
   "id": "f6fb723c",
   "metadata": {},
   "outputs": [],
   "source": [
    "ww1=WW(4,5,\"Mix\",\"Tubeless\",\"AI\", \"Hybrid\")\n",
    "ww2=WW(2,3,\"Mix\",\"Tubeless\",\"AI\", \"Non Hybrid\")"
   ]
  },
  {
   "cell_type": "code",
   "execution_count": 99,
   "id": "4afe1445",
   "metadata": {},
   "outputs": [
    {
     "data": {
      "text/plain": [
       "'This car has Tubeless tyres. Tyre width is 8 inches.'"
      ]
     },
     "execution_count": 99,
     "metadata": {},
     "output_type": "execute_result"
    }
   ],
   "source": [
    "ww1.tyre_desc(8)"
   ]
  },
  {
   "cell_type": "code",
   "execution_count": 100,
   "id": "f834e16e",
   "metadata": {},
   "outputs": [
    {
     "data": {
      "text/plain": [
       "'Tubeless'"
      ]
     },
     "execution_count": 100,
     "metadata": {},
     "output_type": "execute_result"
    }
   ],
   "source": [
    "ww2.tyreType"
   ]
  },
  {
   "cell_type": "code",
   "execution_count": 101,
   "id": "c20b4bb4",
   "metadata": {},
   "outputs": [
    {
     "data": {
      "text/plain": [
       "'This car runs on AI technologies and has Non Hybrid engine'"
      ]
     },
     "execution_count": 101,
     "metadata": {},
     "output_type": "execute_result"
    }
   ],
   "source": [
    "ww2.hybridInfo()"
   ]
  },
  {
   "cell_type": "code",
   "execution_count": null,
   "id": "c270f14a",
   "metadata": {},
   "outputs": [],
   "source": [
    "class Check:\n",
    "    def __init__(self, count, ncount):\n",
    "        self.count=count\n",
    "        self.ncounti=ncount"
   ]
  },
  {
   "cell_type": "code",
   "execution_count": null,
   "id": "b5283906",
   "metadata": {},
   "outputs": [],
   "source": [
    "check1=Check(3,4)"
   ]
  },
  {
   "cell_type": "code",
   "execution_count": null,
   "id": "4f7d94dc",
   "metadata": {},
   "outputs": [],
   "source": [
    "check1.count\n",
    "check1.ncounti"
   ]
  },
  {
   "cell_type": "code",
   "execution_count": null,
   "id": "a0da16ba",
   "metadata": {},
   "outputs": [],
   "source": []
  },
  {
   "cell_type": "code",
   "execution_count": null,
   "id": "115ff024",
   "metadata": {},
   "outputs": [],
   "source": []
  }
 ],
 "metadata": {
  "kernelspec": {
   "display_name": "Python 3",
   "language": "python",
   "name": "python3"
  },
  "language_info": {
   "codemirror_mode": {
    "name": "ipython",
    "version": 3
   },
   "file_extension": ".py",
   "mimetype": "text/x-python",
   "name": "python",
   "nbconvert_exporter": "python",
   "pygments_lexer": "ipython3",
   "version": "3.8.8"
  }
 },
 "nbformat": 4,
 "nbformat_minor": 5
}
